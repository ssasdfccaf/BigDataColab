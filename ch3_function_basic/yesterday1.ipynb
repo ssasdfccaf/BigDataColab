{
 "cells": [
  {
   "cell_type": "code",
   "execution_count": 1,
   "metadata": {},
   "outputs": [
    {
     "name": "stdout",
     "output_type": "stream",
     "text": [
      "text 결과값: ['\"yesterday', 'all', 'my', 'troubles', 'seemed', 'so', 'far', 'away', 'now', 'it', 'looks', 'as', 'though', \"they're\", 'here', 'to', 'stay', 'oh,', 'i', 'believe', 'in', 'yesterday', 'suddenly', \"i'm\", 'not', 'half', 'the', 'man', 'i', 'used', 'to', 'be', \"there's\", 'a', 'shadow', 'hanging', 'over', 'me', 'oh,', 'yesterday', 'came', 'suddenly.', 'why', 'she', 'had', 'to', 'go', 'i', \"don't\", 'know,', 'she', \"wouldn't\", 'say.', 'i', 'said', 'something', 'wrong', 'now', 'i', 'long', 'for', 'yesterday.', 'yesterday', 'love', 'was', 'such', 'an', 'easy', 'game', 'to', 'play', 'now', 'i', 'need', 'a', 'place', 'to', 'hide', 'away', 'oh,', 'i', 'believe', 'in', 'yesterday', 'why', 'she', 'had', 'to', 'go', 'i', \"don't\", 'know', 'she', \"wouldn't\", 'say', 'i', 'said', 'something', 'wrong', 'now', 'i', 'long', 'for', 'yesterday', 'yesterday', 'love', 'was', 'such', 'an', 'easy', 'game', 'to', 'play', 'now', 'i', 'need', 'a', 'place', 'to', 'hide', 'away', 'oh,', 'i', 'believe', 'in', 'yesterday\"']\n",
      "\n",
      "\n",
      "Counter모듈 이용출력: Counter({'i': 12, 'to': 8, 'yesterday': 6, 'now': 5, 'oh,': 4, 'she': 4, 'away': 3, 'believe': 3, 'in': 3, 'a': 3, 'why': 2, 'had': 2, 'go': 2, \"don't\": 2, \"wouldn't\": 2, 'said': 2, 'something': 2, 'wrong': 2, 'long': 2, 'for': 2, 'love': 2, 'was': 2, 'such': 2, 'an': 2, 'easy': 2, 'game': 2, 'play': 2, 'need': 2, 'place': 2, 'hide': 2, '\"yesterday': 1, 'all': 1, 'my': 1, 'troubles': 1, 'seemed': 1, 'so': 1, 'far': 1, 'it': 1, 'looks': 1, 'as': 1, 'though': 1, \"they're\": 1, 'here': 1, 'stay': 1, 'suddenly': 1, \"i'm\": 1, 'not': 1, 'half': 1, 'the': 1, 'man': 1, 'used': 1, 'be': 1, \"there's\": 1, 'shadow': 1, 'hanging': 1, 'over': 1, 'me': 1, 'came': 1, 'suddenly.': 1, 'know,': 1, 'say.': 1, 'yesterday.': 1, 'know': 1, 'say': 1, 'yesterday\"': 1})\n"
     ]
    }
   ],
   "source": [
    "from collections import Counter\n",
    "\n",
    "text = '''\n",
    "\"Yesterday all my troubles seemed so far away\n",
    "Now it looks as though they're here to stay\n",
    "Oh, I believe in yesterday\n",
    "Suddenly I'm not half the man I used to be\n",
    "There's a shadow hanging over me\n",
    "Oh, yesterday came suddenly.\n",
    "Why she had to go I don't know,\n",
    "she wouldn't say.\n",
    "I said something wrong\n",
    "now I long for yesterday.\n",
    "Yesterday love was such an easy game to play\n",
    "Now I need a place to hide away\n",
    "Oh, I believe in yesterday\n",
    "Why she had to go I don't know\n",
    "she wouldn't say\n",
    "I said something wrong\n",
    "now I long for yesterday\n",
    "Yesterday love was such an easy game to play\n",
    "Now I need a place to hide away\n",
    "Oh, I believe in yesterday\"\n",
    "'''.lower().split()\n",
    "# .lower 소문자로 바꾸고 .split 나누기\n",
    "print(f\"text 결과값: {text}\")\n",
    "print(\"\\n\")\n",
    "print(f\"Counter모듈 이용출력: {Counter(text)}\")"
   ]
  }
 ],
 "metadata": {
  "kernelspec": {
   "display_name": "Python 3",
   "language": "python",
   "name": "python3"
  },
  "language_info": {
   "codemirror_mode": {
    "name": "ipython",
    "version": 3
   },
   "file_extension": ".py",
   "mimetype": "text/x-python",
   "name": "python",
   "nbconvert_exporter": "python",
   "pygments_lexer": "ipython3",
   "version": "3.12.0"
  }
 },
 "nbformat": 4,
 "nbformat_minor": 2
}
