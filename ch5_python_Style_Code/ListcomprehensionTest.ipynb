{
 "cells": [
  {
   "cell_type": "code",
   "execution_count": 1,
   "metadata": {},
   "outputs": [
    {
     "name": "stdout",
     "output_type": "stream",
     "text": [
      "result 조회 : [0, 1, 2, 3, 4]\n"
     ]
    }
   ],
   "source": [
    "# 기존에 새리스트 추가시, 반복문이나, 안에 로직을 이용해서, 작업.\n",
    "\n",
    "# 컴프리헨션으로 작업을 하면, 해당 리스트에 반복문을 주입해서, 바로 생성. \n",
    "\n",
    "result = [i for i in range(5)]\n",
    "print(f\"result 조회 : {result}\")"
   ]
  },
  {
   "cell_type": "code",
   "execution_count": 2,
   "metadata": {},
   "outputs": [
    {
     "name": "stdout",
     "output_type": "stream",
     "text": [
      "result 조회 : [0, 2, 4]\n"
     ]
    }
   ],
   "source": [
    "# 컴프리헨션으로 작업을 하면, 해당 리스트에 반복문을 주입해서, 바로 생성. \n",
    "# 조건문 추가하기. \n",
    "result = [i for i in range(5) if i % 2 ==0]\n",
    "print(f\"result 조회 : {result}\")"
   ]
  },
  {
   "cell_type": "code",
   "execution_count": 3,
   "metadata": {},
   "outputs": [
    {
     "name": "stdout",
     "output_type": "stream",
     "text": [
      "result 조회 : [0, 77, 2, 77, 4]\n"
     ]
    }
   ],
   "source": [
    "# 조건문 추가하기. else 문 추가. \n",
    "result = [i if i % 2 ==0 else 77 for i in range(5) ]\n",
    "print(f\"result 조회 : {result}\")"
   ]
  },
  {
   "cell_type": "code",
   "execution_count": 4,
   "metadata": {},
   "outputs": [
    {
     "name": "stdout",
     "output_type": "stream",
     "text": [
      "result 조회 : ['a1', 'a2', 'a3', 'b1', 'b2', 'b3', 'c1', 'c2', 'c3']\n"
     ]
    }
   ],
   "source": [
    "# 중첩 반복문 이용하기. \n",
    "test1 = \"abc\"\n",
    "test2 = \"123\"\n",
    "\n",
    "result = [i+j for i in test1 for j in test2]\n",
    "print(f\"result 조회 : {result}\")\n"
   ]
  },
  {
   "cell_type": "code",
   "execution_count": 6,
   "metadata": {},
   "outputs": [
    {
     "name": "stdout",
     "output_type": "stream",
     "text": [
      "result 조회 : ['ab', 'ac', 'ba', 'bc', 'ca', 'cb']\n"
     ]
    }
   ],
   "source": [
    "# 중첩 반복문 이용하기. 조건 붙이기 필터링\n",
    "test1 = [\"a\",\"b\",\"c\"]\n",
    "test2 = [\"a\",\"b\",\"c\"]\n",
    "\n",
    "result = [i+j for i in test1 for j in test2 if not(i==j)]\n",
    "print(f\"result 조회 : {result}\")"
   ]
  },
  {
   "cell_type": "code",
   "execution_count": 7,
   "metadata": {},
   "outputs": [
    {
     "name": "stdout",
     "output_type": "stream",
     "text": [
      "result 조회 : [['a1', 'b1', 'c1'], ['a2', 'b2', 'c2'], ['a3', 'b3', 'c3']]\n"
     ]
    }
   ],
   "source": [
    "# 리스트 안에 리스트 : 이중 리스트 , 엄청 많이 사용됨., \n",
    "\n",
    "test1 = [\"a\",\"b\",\"c\"]\n",
    "test2 = [\"1\",\"2\",\"3\"]\n",
    "\n",
    "result = [[i+j for i in test1] for j in test2]\n",
    "print(f\"result 조회 : {result}\")"
   ]
  },
  {
   "cell_type": "code",
   "execution_count": null,
   "metadata": {},
   "outputs": [],
   "source": [
    "# 기존의 반복문으로 새 리스트를 추가하는 것보다\n",
    "# 컴프리헨션을 이용해서, 새 리스트를 추가하는 것이 성능상 더 좋다. \n",
    "# 기존 리스트 -> Numpy 로 배열로 갈아 타기. 더 성능이 더 좋다. "
   ]
  },
  {
   "cell_type": "code",
   "execution_count": 8,
   "metadata": {},
   "outputs": [
    {
     "name": "stdout",
     "output_type": "stream",
     "text": [
      "a ,b 조회 : a1\n",
      "a ,b 조회 : b2\n",
      "a ,b 조회 : c3\n"
     ]
    }
   ],
   "source": [
    "# zip 함수 , 1개 이상의 리스트값이 같은 인덱스에 있다면, 묶어서 같이 출력. \n",
    "test1 = [\"a\",\"b\",\"c\"]\n",
    "test2 = [\"1\",\"2\",\"3\"]\n",
    "\n",
    "for a,b in zip(test1,test2):\n",
    "  print(f\"a ,b 조회 : {a}{b}\")  \n"
   ]
  },
  {
   "cell_type": "code",
   "execution_count": 10,
   "metadata": {},
   "outputs": [
    {
     "name": "stdout",
     "output_type": "stream",
     "text": [
      "a ,b , c조회 : (1, 4, 7), (2, 5, 8), (3, 6, 9)\n",
      "result 조회 : [12, 15, 18]\n"
     ]
    }
   ],
   "source": [
    "# zip 함수 이용해서, 각 인덱스끼리 묶기, \n",
    "\n",
    "a, b, c = zip((1,2,3),(4,5,6), (7,8,9))\n",
    "print(f\"a ,b , c조회 : {a}, {b}, {c}\")  \n",
    "\n",
    "# 각 인덱스 요소를 합 구하기. \n",
    "result = [sum(x) for x in zip((1,2,3),(4,5,6), (7,8,9))]\n",
    "print(f\"result 조회 : {result}\")  \n"
   ]
  }
 ],
 "metadata": {
  "kernelspec": {
   "display_name": "Python 3",
   "language": "python",
   "name": "python3"
  },
  "language_info": {
   "codemirror_mode": {
    "name": "ipython",
    "version": 3
   },
   "file_extension": ".py",
   "mimetype": "text/x-python",
   "name": "python",
   "nbconvert_exporter": "python",
   "pygments_lexer": "ipython3",
   "version": "3.12.0"
  }
 },
 "nbformat": 4,
 "nbformat_minor": 2
}
