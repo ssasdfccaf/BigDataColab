{
 "cells": [
  {
   "cell_type": "code",
   "execution_count": 1,
   "metadata": {},
   "outputs": [
    {
     "name": "stdout",
     "output_type": "stream",
     "text": [
      "hi : no : 1\n",
      "hi : no : 2\n",
      "hi : no : 3\n",
      "hi : no : 4\n",
      "hi : no : 5\n"
     ]
    }
   ],
   "source": [
    "# 기본 for , 리스트 버전. \n",
    "# 조건문, 반복문, 함수이건, 들여쓰기 부분이 강제임. \n",
    "for i in [1,2,3,4,5]:\n",
    "  print(f\"hi : no : {i}\")"
   ]
  },
  {
   "cell_type": "code",
   "execution_count": 2,
   "metadata": {},
   "outputs": [
    {
     "name": "stdout",
     "output_type": "stream",
     "text": [
      "hi : no : 1\n",
      "hi : no : 2\n",
      "hi : no : 3\n",
      "hi : no : 4\n"
     ]
    }
   ],
   "source": [
    "#range(시작값,끝값,증가값), 기본, 끝값 미포함, 증가값:1\n",
    "for i in range(1,5):\n",
    "   print(f\"hi : no : {i}\")"
   ]
  },
  {
   "cell_type": "code",
   "execution_count": 4,
   "metadata": {},
   "outputs": [
    {
     "name": "stdout",
     "output_type": "stream",
     "text": [
      "hi : no : 0\n",
      "hi : no : 1\n",
      "hi : no : 2\n",
      "hi : no : 3\n",
      "hi : no : 4\n"
     ]
    }
   ],
   "source": [
    "#range(시작값,끝값,증가값), 기본, 끝값 미포함, 증가값:1\n",
    "for i in range(5):\n",
    "   print(f\"hi : no : {i}\")"
   ]
  },
  {
   "cell_type": "code",
   "execution_count": 5,
   "metadata": {},
   "outputs": [
    {
     "name": "stdout",
     "output_type": "stream",
     "text": [
      "hi : no : 1\n",
      "hi : no : 3\n",
      "hi : no : 5\n",
      "hi : no : 7\n",
      "hi : no : 9\n"
     ]
    }
   ],
   "source": [
    "#range(시작값,끝값,증가값), 기본, 끝값 미포함, 증가값:1\n",
    "for i in range(1,10,2):\n",
    "   print(f\"hi : no : {i}\")"
   ]
  },
  {
   "cell_type": "code",
   "execution_count": 6,
   "metadata": {},
   "outputs": [
    {
     "name": "stdout",
     "output_type": "stream",
     "text": [
      "hi : no : 10\n",
      "hi : no : 9\n",
      "hi : no : 8\n",
      "hi : no : 7\n",
      "hi : no : 6\n",
      "hi : no : 5\n",
      "hi : no : 4\n",
      "hi : no : 3\n",
      "hi : no : 2\n"
     ]
    }
   ],
   "source": [
    "#range(시작값,끝값,증가값), 기본, 끝값 미포함, 증가값:1\n",
    "for i in range(10,1,-1):\n",
    "   print(f\"hi : no : {i}\")"
   ]
  },
  {
   "cell_type": "code",
   "execution_count": 2,
   "metadata": {},
   "outputs": [
    {
     "name": "stdout",
     "output_type": "stream",
     "text": [
      "hi : no : 1\n",
      "hi : no : 2\n",
      "hi : no : 3\n",
      "hi : no : 4\n",
      "hi : no : 5\n",
      "hi : no : 6\n",
      "hi : no : 7\n",
      "hi : no : 8\n",
      "hi : no : 9\n"
     ]
    }
   ],
   "source": [
    "# while 은 , 계속적인 반복문에서 주로 사용하고, \n",
    "# 특정 상태 변수를 두어서, 조건을 만족시, 반복문을 빠져나가는 형태를 많이 사용함. \n",
    "# isLoad : True , 계속 수집, 반대인 경우, 그만 수집.\n",
    "i = 1\n",
    "while i < 10:\n",
    "   print(f\"hi : no : {i}\")\n",
    "   i += 1"
   ]
  },
  {
   "cell_type": "code",
   "execution_count": 3,
   "metadata": {},
   "outputs": [
    {
     "name": "stdout",
     "output_type": "stream",
     "text": [
      "0\n",
      "반복문 수행중. 실행 순서를 잘 봐야함.\n",
      "1\n",
      "반복문 수행중. 실행 순서를 잘 봐야함.\n",
      "2\n",
      "반복문 수행중. 실행 순서를 잘 봐야함.\n",
      "3\n",
      "반복문 수행중. 실행 순서를 잘 봐야함.\n",
      "4\n",
      "반복문 수행중. 실행 순서를 잘 봐야함.\n",
      "반복문 빠져 나옴. 실행 순서를 잘 봐야함.\n"
     ]
    }
   ],
   "source": [
    "# break : 조건 만족하면, 반복문 탈출, \n",
    "# continue : 조건 만족하면, 무시하고, 다음 조건으로 넘어가기. \n",
    "for i in range(10):\n",
    "  if i == 5: \n",
    "    break\n",
    "  print(i)\n",
    "  print(\"반복문 수행중. 실행 순서를 잘 봐야함.\")  \n",
    "print(\"반복문 빠져 나옴. 실행 순서를 잘 봐야함.\")  "
   ]
  },
  {
   "cell_type": "code",
   "execution_count": 4,
   "metadata": {},
   "outputs": [
    {
     "name": "stdout",
     "output_type": "stream",
     "text": [
      "0\n",
      "1\n",
      "2\n",
      "3\n",
      "4\n",
      "6\n",
      "7\n",
      "8\n",
      "9\n",
      "반복문 빠져 나옴. 실행 순서를 잘 봐야함.\n"
     ]
    }
   ],
   "source": [
    "# break : 조건 만족하면, 반복문 탈출, \n",
    "# continue : 조건 만족하면, 무시하고, 다음 조건으로 넘어가기. \n",
    "for i in range(10):\n",
    "  if i == 5: \n",
    "    continue\n",
    "  print(i)\n",
    "  # print(\"반복문 수행중. 실행 순서를 잘 봐야함.\")  \n",
    "print(\"반복문 빠져 나옴. 실행 순서를 잘 봐야함.\")  "
   ]
  },
  {
   "cell_type": "code",
   "execution_count": 6,
   "metadata": {},
   "outputs": [
    {
     "name": "stdout",
     "output_type": "stream",
     "text": [
      "1~100까지의 수중에서, 3의 배수를 제외한 합계 : 12\n"
     ]
    }
   ],
   "source": [
    "# 1~5 까지 수 중에서, 3의 배수를 제외하고 , 합계\n",
    "hap, i = 0, 0\n",
    "for i in range(1,6): # 1,2,3,4,5\n",
    "  if i % 3 == 0 : # 3의 배수\n",
    "    continue\n",
    "  hap += i\n",
    "print(f\"1~5까지의 수중에서, 3의 배수를 제외한 합계 : {hap}\")"
   ]
  },
  {
   "cell_type": "code",
   "execution_count": 7,
   "metadata": {},
   "outputs": [
    {
     "name": "stdout",
     "output_type": "stream",
     "text": [
      "문자열 거꾸로 출력해보기: ysl ih\n"
     ]
    }
   ],
   "source": [
    "# 문자열의 내용을 역순으로 출력해보기. \n",
    "str = \"hi lsy\"\n",
    "reverseStr = \"\"\n",
    "for char in str:\n",
    "  reverseStr = char + reverseStr\n",
    "print(f\"문자열 거꾸로 출력해보기: {reverseStr}\")\n"
   ]
  }
 ],
 "metadata": {
  "kernelspec": {
   "display_name": "Python 3",
   "language": "python",
   "name": "python3"
  },
  "language_info": {
   "codemirror_mode": {
    "name": "ipython",
    "version": 3
   },
   "file_extension": ".py",
   "mimetype": "text/x-python",
   "name": "python",
   "nbconvert_exporter": "python",
   "pygments_lexer": "ipython3",
   "version": "3.12.0"
  }
 },
 "nbformat": 4,
 "nbformat_minor": 2
}
