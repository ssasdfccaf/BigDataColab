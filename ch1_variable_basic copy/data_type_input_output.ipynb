{
 "cells": [
  {
   "cell_type": "markdown",
   "metadata": {},
   "source": [
    "기본 변수들 할당 및 변환 기본 입력, 출력 테스트 , 연습장"
   ]
  },
  {
   "cell_type": "code",
   "execution_count": 1,
   "metadata": {},
   "outputs": [
    {
     "name": "stdout",
     "output_type": "stream",
     "text": [
      "기본 출력 방식 이름:  수연 , 나이 :  20 , 키 :  170.222\n",
      "이름 출력하기 : 수연 \n",
      "나이 출력하기 : 20 \n",
      "키 출력하기 : 170.222000 \n",
      "이름 출력하기 : 수연 , 나이 : 20, 키 : 170.222000\n",
      "이름 : 수연, 나이: 20, 키 : 170.222\n"
     ]
    }
   ],
   "source": [
    "name = \"수연\"\n",
    "age = 20\n",
    "height = 170.222\n",
    "# 기본 출력1\n",
    "print(\"기본 출력 방식\",\"이름: \",name, \", 나이 : \",age, \", 키 : \", height)\n",
    "# 기본 출력2\n",
    "print(\"이름 출력하기 : %s \" % (name))\n",
    "print(\"나이 출력하기 : %d \" % (age))\n",
    "print(\"키 출력하기 : %f \" % (height))\n",
    "print(\"이름 출력하기 : %s , 나이 : %d, 키 : %f\" % (name,age,height))\n",
    "# 기본 출력3 \n",
    "print(f\"이름 : {name}, 나이: {age}, 키 : {height}\")\n",
    "# 안드로이드 버전, 코틀린 로그 출력 : Log.d(\"sy\",\"이름: ${name}\")\n"
   ]
  },
  {
   "cell_type": "code",
   "execution_count": 2,
   "metadata": {},
   "outputs": [
    {
     "name": "stdout",
     "output_type": "stream",
     "text": [
      "a 의 타입 의 결과(함수 type 사용) : <class 'str'>\n",
      "b 의 타입 의 결과(함수 type 사용) : <class 'int'>\n",
      "c 의 타입 의 결과(함수 type 사용) : <class 'str'>\n"
     ]
    }
   ],
   "source": [
    "# 정수, 실수, 문자열 각 각 변환 및 입력 받아보기. \n",
    "num1 = 20\n",
    "str1 = \"sy\"\n",
    "str2 = \"12345\"\n",
    "flo1 = 12.123\n",
    "# 정수, 문자열 변환 ,str()\n",
    "a = str(num1)\n",
    "print(f\"a 의 타입 의 결과(함수 type 사용) : {type(a)}\")\n",
    "\n",
    "# 문자열 정수 변환 , int()\n",
    "b = int(str2)\n",
    "print(f\"b 의 타입 의 결과(함수 type 사용) : {type(b)}\")\n",
    "\n",
    "# input() , 표준 입력  -> 결과 타입은 : 문자열.\n",
    "# 필요시, 해당 값을 정수등 변환해서 사용하면 됨.\n",
    "c = input(\"본인이 좋아하는 숫자(1~5) 선택해주세요: \")\n",
    "print(f\"c 의 타입 의 결과(함수 type 사용) : {type(c)}\")"
   ]
  }
 ],
 "metadata": {
  "kernelspec": {
   "display_name": "Python 3",
   "language": "python",
   "name": "python3"
  },
  "language_info": {
   "codemirror_mode": {
    "name": "ipython",
    "version": 3
   },
   "file_extension": ".py",
   "mimetype": "text/x-python",
   "name": "python",
   "nbconvert_exporter": "python",
   "pygments_lexer": "ipython3",
   "version": "3.12.0"
  }
 },
 "nbformat": 4,
 "nbformat_minor": 2
}
