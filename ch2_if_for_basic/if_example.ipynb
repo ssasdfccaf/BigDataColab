{
 "cells": [
  {
   "cell_type": "code",
   "execution_count": 1,
   "metadata": {},
   "outputs": [
    {
     "name": "stdout",
     "output_type": "stream",
     "text": [
      "num1 이 100보다 작다.\n"
     ]
    }
   ],
   "source": [
    "# if 문, elif, else \n",
    "num1 = 10\n",
    "if num1 > 100 :\n",
    "  print(f\"num1 이 100보다 크다.\")\n",
    "else :  \n",
    "  print(f\"num1 이 100보다 작다.\")"
   ]
  },
  {
   "cell_type": "code",
   "execution_count": 4,
   "metadata": {},
   "outputs": [
    {
     "name": "stdout",
     "output_type": "stream",
     "text": [
      "num1 이 110보다 크다.\n"
     ]
    }
   ],
   "source": [
    "# if 문, elif, else \n",
    "num1 = 111\n",
    "# 1) 100 보다 작을 경우 \n",
    "# 2) 100 이상 110보다 작을 경우\n",
    "# 3) 110 보다 클 경우\n",
    "if num1 < 100 :\n",
    "  print(f\"num1 이 100보다 작다.\")\n",
    "\n",
    "elif num1 < 110 and num1 >= 100 :\n",
    "  print(f\"num1 이 100보다 크거나 같고, 110보다 작다.\")\n",
    "else :  \n",
    "  print(f\"num1 이 110보다 크다.\")"
   ]
  }
 ],
 "metadata": {
  "kernelspec": {
   "display_name": "Python 3",
   "language": "python",
   "name": "python3"
  },
  "language_info": {
   "codemirror_mode": {
    "name": "ipython",
    "version": 3
   },
   "file_extension": ".py",
   "mimetype": "text/x-python",
   "name": "python",
   "nbconvert_exporter": "python",
   "pygments_lexer": "ipython3",
   "version": "3.12.0"
  }
 },
 "nbformat": 4,
 "nbformat_minor": 2
}
