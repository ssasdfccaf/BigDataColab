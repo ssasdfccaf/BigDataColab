{
 "cells": [
  {
   "cell_type": "code",
   "execution_count": 27,
   "metadata": {},
   "outputs": [
    {
     "ename": "SyntaxError",
     "evalue": "invalid syntax (1746167401.py, line 1)",
     "output_type": "error",
     "traceback": [
      "\u001b[0;36m  Cell \u001b[0;32mIn[27], line 1\u001b[0;36m\u001b[0m\n\u001b[0;31m    기본 변수들 할당 및 변환 기본 입력, 출력 테스트 (연습장)\u001b[0m\n\u001b[0m       ^\u001b[0m\n\u001b[0;31mSyntaxError\u001b[0m\u001b[0;31m:\u001b[0m invalid syntax\n"
     ]
    }
   ],
   "source": [
    "// 기본 변수들 할당 및 변환 기본 입력, 출력 테스트 (연습장)"
   ]
  },
  {
   "cell_type": "code",
   "execution_count": null,
   "metadata": {},
   "outputs": [
    {
     "ename": "SyntaxError",
     "evalue": "invalid syntax (980881448.py, line 8)",
     "output_type": "error",
     "traceback": [
      "\u001b[0;36m  Cell \u001b[0;32mIn[19], line 8\u001b[0;36m\u001b[0m\n\u001b[0;31m    // 문자열1, 정수1, 실수1\u001b[0m\n\u001b[0m    ^\u001b[0m\n\u001b[0;31mSyntaxError\u001b[0m\u001b[0;31m:\u001b[0m invalid syntax\n"
     ]
    }
   ],
   "source": [
    "name = \"Sophie\"\n",
    "age = 20,\n",
    "height = 170.222\n",
    "\n",
    "# 기본 출력 1\n",
    "print(\"기본 출력 방식\", \"이름: \", name, \"나이 : \",age, \"키 : \", height )\n",
    "\n",
    "// 문자열1, 정수1, 실수1\n",
    "\n",
    "# 기본 출력 2\n",
    "print(\"%d, %f, %s\" % age, height, name)\n",
    "print(\"이름 출력하기 : %s \" % (name))\n",
    "print(\"나이 출력하기 : %d \" % (age))\n",
    "print(\"키 출력하기 : %f \" % (height))\n",
    "print(\"이름 출력하기 : %s, 나이 : %d, 키 : %f\" % (name, age, height))\n",
    "\n",
    "# 기본 출력 3\n",
    "print(f\"이름 : {name}, 나이: {age}, 키 : {height}\")\n",
    "\n",
    "\n",
    "# 안드로이드 버전, 코틀린 로그 출력 : #Log.d(\"s\",\"이름: ${name}\")"
   ]
  }
 ],
 "metadata": {
  "kernelspec": {
   "display_name": "Python 3",
   "language": "python",
   "name": "python3"
  },
  "language_info": {
   "codemirror_mode": {
    "name": "ipython",
    "version": 3
   },
   "file_extension": ".py",
   "mimetype": "text/x-python",
   "name": "python",
   "nbconvert_exporter": "python",
   "pygments_lexer": "ipython3",
   "version": "3.0.0"
  }
 },
 "nbformat": 4,
 "nbformat_minor": 2
}
