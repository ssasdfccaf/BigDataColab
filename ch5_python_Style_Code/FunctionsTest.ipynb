{
 "cells": [
  {
   "cell_type": "code",
   "execution_count": 4,
   "metadata": {},
   "outputs": [
    {
     "name": "stdout",
     "output_type": "stream",
     "text": [
      "result join 함수 이용 후 조회: red!!blue!!green!!yellow\n"
     ]
    }
   ],
   "source": [
    "#join 함수 이용 \n",
    "colors = ['red','blue','green','yellow']\n",
    "# \" \" 안에 구분자 넣기, 예) 공백, 콤마 등. \n",
    "result = \"!!\".join(colors)\n",
    "print(f\"result join 함수 이용 후 조회: {result}\")"
   ]
  },
  {
   "cell_type": "code",
   "execution_count": 6,
   "metadata": {},
   "outputs": [
    {
     "name": "stdout",
     "output_type": "stream",
     "text": [
      "result split(공백) 함수 이용 후 조회: ['abc', 'def', '123', '456', '777']\n",
      "result2 split(콤마) 함수 이용 후 조회: ['abc', 'def', '123', '456', '777']\n"
     ]
    }
   ],
   "source": [
    "#split 함수 이용 \n",
    "items = \"abc def 123 456 777\"\n",
    "items2 = \"abc,def,123,456,777\"\n",
    "result = items.split()\n",
    "result2 = items2.split(\",\")\n",
    "print(f\"result split(공백) 함수 이용 후 조회: {result}\")\n",
    "print(f\"result2 split(콤마) 함수 이용 후 조회: {result2}\")"
   ]
  }
 ],
 "metadata": {
  "kernelspec": {
   "display_name": "Python 3",
   "language": "python",
   "name": "python3"
  },
  "language_info": {
   "codemirror_mode": {
    "name": "ipython",
    "version": 3
   },
   "file_extension": ".py",
   "mimetype": "text/x-python",
   "name": "python",
   "nbconvert_exporter": "python",
   "pygments_lexer": "ipython3",
   "version": "3.12.0"
  }
 },
 "nbformat": 4,
 "nbformat_minor": 2
}
