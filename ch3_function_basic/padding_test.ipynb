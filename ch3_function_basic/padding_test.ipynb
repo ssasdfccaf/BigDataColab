{
 "cells": [
  {
   "cell_type": "code",
   "execution_count": 3,
   "metadata": {},
   "outputs": [
    {
     "name": "stdout",
     "output_type": "stream",
     "text": [
      "     5.123\n",
      "     5.123@"
     ]
    }
   ],
   "source": [
    "# 10자리 중에서, 소숫점 은 3자리 \n",
    "print(\"%10.3f\" % 5.123456)\n",
    "\n",
    "# 빈공간 특수문자로 채우기. \n",
    "print(\"%10.3f\" % 5.123456,end=\"@\")"
   ]
  }
 ],
 "metadata": {
  "kernelspec": {
   "display_name": "Python 3",
   "language": "python",
   "name": "python3"
  },
  "language_info": {
   "codemirror_mode": {
    "name": "ipython",
    "version": 3
   },
   "file_extension": ".py",
   "mimetype": "text/x-python",
   "name": "python",
   "nbconvert_exporter": "python",
   "pygments_lexer": "ipython3",
   "version": "3.12.0"
  }
 },
 "nbformat": 4,
 "nbformat_minor": 2
}
