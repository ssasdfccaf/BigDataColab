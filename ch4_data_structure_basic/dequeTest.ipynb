{
 "cells": [
  {
   "cell_type": "code",
   "execution_count": 3,
   "metadata": {},
   "outputs": [
    {
     "name": "stdout",
     "output_type": "stream",
     "text": [
      "deque_list 출력 : deque([0, 1, 2, 3, 4])\n",
      "deque_list 출력 : deque([0, 1, 2, 3])\n",
      "deque_list 출력 : deque([0, 1, 2])\n"
     ]
    }
   ],
   "source": [
    "from collections import deque\n",
    "\n",
    "deque_list = deque()\n",
    "\n",
    " # 0 ~ 4, range(시작,끝, 증가값), 끝값은 미포함\n",
    "for i in range(5):\n",
    "  deque_list.append(i)\n",
    "print(f\"deque_list 출력 : {deque_list}\")\n",
    "\n",
    "# 스택처럼 하나씩 뒤에 값부터 4 꺼내기. pop() 이용 \n",
    "deque_list.pop() \n",
    "print(f\"deque_list 출력 : {deque_list}\")\n",
    "\n",
    "# 스택처럼 하나씩 뒤에 값부터 3 꺼내기. pop() 이용 \n",
    "deque_list.pop() \n",
    "print(f\"deque_list 출력 : {deque_list}\")\n"
   ]
  },
  {
   "cell_type": "code",
   "execution_count": 6,
   "metadata": {},
   "outputs": [
    {
     "name": "stdout",
     "output_type": "stream",
     "text": [
      "deque_list 출력 : deque([4, 3, 2, 1, 0])\n",
      "deque_list 출력 : deque([4, 3, 2, 1])\n",
      "deque_list 출력 : deque([4, 3, 2])\n"
     ]
    }
   ],
   "source": [
    "#deque , 큐처럼 사용하기, appendleft() 함수 이용하기. \n",
    "# 왼쪽부터 입력하게 해서, 들어간 값부터 출력하기. FIFO \n",
    "from collections import deque\n",
    "\n",
    "deque_list = deque()\n",
    "\n",
    " # 0 ~ 4, range(시작,끝, 증가값), 끝값은 미포함\n",
    "for i in range(5):\n",
    "  deque_list.appendleft(i)\n",
    "# 기존에 append 로 추가시, 오른쪽으로 추가했음. \n",
    "# [ 0,1,2,3,4]\n",
    "print(f\"deque_list 출력 : {deque_list}\")\n",
    "\n",
    "# 큐처럼 하나씩  먼저 들어온 값부터  0 꺼내기. pop() 이용 \n",
    "deque_list.pop() \n",
    "print(f\"deque_list 출력 : {deque_list}\")\n",
    "\n",
    "# 큐처럼 하나씩  먼저 들어온 값부터  1 꺼내기. pop() 이용 \n",
    "deque_list.pop() \n",
    "print(f\"deque_list 출력 : {deque_list}\")"
   ]
  },
  {
   "cell_type": "code",
   "execution_count": 9,
   "metadata": {},
   "outputs": [
    {
     "name": "stdout",
     "output_type": "stream",
     "text": [
      "deque_list 출력 : deque([4, 3, 2, 1, 0])\n",
      "deque_list 출력 : deque([2, 1, 0, 4, 3])\n"
     ]
    }
   ],
   "source": [
    "#deque , 각 요소의 다음 요소의 메모리 위치 주소값을 알고 있다. \n",
    "# 마지막 요소는 , 맨 처음 요소의 메모리 위치 주소값을 알고 있다. \n",
    "# 결론, 처음과 끝이 연결이 된구조가 되고, 이것을 이용해서, \n",
    "# 각 요소를 순회 시킬수 있다. \n",
    "# rotate() 함수를 이용해서, 각 요소를 이동이 가능하다. \n",
    "#deque , 큐처럼 사용하기, appendleft() 함수 이용하기. \n",
    "# 왼쪽부터 입력하게 해서, 들어간 값부터 출력하기. FIFO \n",
    "from collections import deque\n",
    "\n",
    "deque_list = deque()\n",
    "\n",
    " # 0 ~ 4, range(시작,끝, 증가값), 끝값은 미포함\n",
    "for i in range(5):\n",
    "  deque_list.appendleft(i)\n",
    "# 기존에 append 로 추가시, 오른쪽으로 추가했음. \n",
    "# [ 0,1,2,3,4]\n",
    "print(f\"deque_list 출력 : {deque_list}\")\n",
    "# deque_list 출력 : deque([4, 3, 2, 1, 0])\n",
    "\n",
    "# rotate() 함수 이용 \n",
    "# 2칸 이동해보기. \n",
    "deque_list.rotate(2)\n",
    "print(f\"deque_list 출력 : {deque_list}\")"
   ]
  },
  {
   "cell_type": "code",
   "execution_count": 11,
   "metadata": {},
   "outputs": [
    {
     "name": "stdout",
     "output_type": "stream",
     "text": [
      "deque_list 출력 : deque([4, 3, 2, 1, 0])\n",
      "deque_list 출력 : deque([0, 1, 2, 3, 4])\n"
     ]
    }
   ],
   "source": [
    "# reversed() 확인. \n",
    "from collections import deque\n",
    "\n",
    "deque_list = deque()\n",
    "\n",
    " # 0 ~ 4, range(시작,끝, 증가값), 끝값은 미포함\n",
    "for i in range(5):\n",
    "  deque_list.appendleft(i)\n",
    "# 기존에 append 로 추가시, 오른쪽으로 추가했음. \n",
    "# [ 0,1,2,3,4]\n",
    "print(f\"deque_list 출력 : {deque_list}\")\n",
    "# deque_list 출력 : deque([4, 3, 2, 1, 0])\n",
    "deque_list_reversed = deque(reversed(deque_list))\n",
    "print(f\"deque_list 출력 : {deque_list_reversed}\")\n"
   ]
  }
 ],
 "metadata": {
  "kernelspec": {
   "display_name": "Python 3",
   "language": "python",
   "name": "python3"
  },
  "language_info": {
   "codemirror_mode": {
    "name": "ipython",
    "version": 3
   },
   "file_extension": ".py",
   "mimetype": "text/x-python",
   "name": "python",
   "nbconvert_exporter": "python",
   "pygments_lexer": "ipython3",
   "version": "3.12.0"
  }
 },
 "nbformat": 4,
 "nbformat_minor": 2
}
