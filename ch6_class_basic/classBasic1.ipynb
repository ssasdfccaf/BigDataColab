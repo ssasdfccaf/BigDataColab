{
 "cells": [
  {
   "cell_type": "code",
   "execution_count": 9,
   "metadata": {},
   "outputs": [
    {
     "name": "stdout",
     "output_type": "stream",
     "text": [
      "출력해보기 sy : hi, 이름: 수연, 나이: 20, 이메일: sy@naver.com\n",
      "변경한 이메일 : sy2@naver.com\n",
      "출력해보기 sy2 : hi, 이름: 수연, 나이: 20, 이메일: sy2@naver.com\n",
      "출력해보기 상속받은 child1 : hi, 이름: 자식1, 나이: 20, 이메일: 자식1@naver.com\n",
      "출력해보기 상속받은 child2 : hi, 이름: 자식2, 나이: 20, 이메일: 자식2@naver.com\n",
      "나의 취미는 : netflix 보기\n"
     ]
    }
   ],
   "source": [
    "class Person():\n",
    "  # 매개변수 3개인 생성자, \n",
    "  # 해당 클래스 사용시, 반드시 호출되는 함수. \n",
    "  def __init__(self,name,age,email):\n",
    "    self.name = name\n",
    "    self.age = age\n",
    "    self.email = email\n",
    "  \n",
    "  def chage_email (self, newEmail):\n",
    "    self.email = newEmail\n",
    "    print(f\"변경한 이메일 : {newEmail}\")\n",
    "  \n",
    "  def __str__(self):\n",
    "    return f\"hi, 이름: {self.name}, 나이: {self.age}, 이메일: {self.email}\"\n",
    "\n",
    "# 클래스 사용하기. \n",
    "sy = Person(\"수연\", 20, \"sy@naver.com\")\n",
    "print(f\"출력해보기 sy : {sy}\")\n",
    "\n",
    "#이메일 변경해보기. \n",
    "sy.chage_email(\"sy2@naver.com\")\n",
    "print(f\"출력해보기 sy2 : {sy}\")\n",
    "\n",
    "# 부모 클래스 : Person \n",
    "# 자식 클래스 : Child \n",
    "# 자식 클래스 : Child2 \n",
    "\n",
    "class Child(Person):\n",
    "  pass\n",
    "\n",
    "child1 = Child(\"자식1\",20,\"자식1@naver.com\")\n",
    "print(f\"출력해보기 상속받은 child1 : {child1}\")\n",
    "\n",
    "# 상속을 받았다면, 반드시 부모의 생성자를 먼저 호출한 후, 자기꺼를 생성자 호출 해야함. \n",
    "class Child2(Person):\n",
    "  def __init__(self, name, age, email,hobby):\n",
    "    super().__init__(name, age, email)\n",
    "    self.hobby = hobby\n",
    "\n",
    "  def show_hobby(self):\n",
    "    print(f\"나의 취미는 : {self.hobby}\")  \n",
    "\n",
    "#클래스 사용하기. \n",
    "child2 = Child2(\"자식2\",20,\"자식2@naver.com\",\"netflix 보기\")\n",
    "print(f\"출력해보기 상속받은 child2 : {child2}\")\n",
    "child2.show_hobby()\n",
    "  \n"
   ]
  },
  {
   "cell_type": "code",
   "execution_count": 11,
   "metadata": {},
   "outputs": [
    {
     "ename": "NameError",
     "evalue": "name 'Monkey' is not defined",
     "output_type": "error",
     "traceback": [
      "\u001b[0;31m---------------------------------------------------------------------------\u001b[0m",
      "\u001b[0;31mNameError\u001b[0m                                 Traceback (most recent call last)",
      "\u001b[1;32m/Users/sophie/Desktop/Python/231213_12PM/TestPython404_231204/ch6_class_basic/classBasic1.ipynb 셀 2\u001b[0m line \u001b[0;36m2\n\u001b[1;32m     <a href='vscode-notebook-cell:/Users/sophie/Desktop/Python/231213_12PM/TestPython404_231204/ch6_class_basic/classBasic1.ipynb#W1sZmlsZQ%3D%3D?line=22'>23</a>\u001b[0m   \u001b[39mdef\u001b[39;00m \u001b[39mtalk\u001b[39m(\u001b[39mself\u001b[39m):\n\u001b[1;32m     <a href='vscode-notebook-cell:/Users/sophie/Desktop/Python/231213_12PM/TestPython404_231204/ch6_class_basic/classBasic1.ipynb#W1sZmlsZQ%3D%3D?line=23'>24</a>\u001b[0m     \u001b[39mreturn\u001b[39;00m \u001b[39m\"\u001b[39m\u001b[39m키키\u001b[39m\u001b[39m\"\u001b[39m\n\u001b[0;32m---> <a href='vscode-notebook-cell:/Users/sophie/Desktop/Python/231213_12PM/TestPython404_231204/ch6_class_basic/classBasic1.ipynb#W1sZmlsZQ%3D%3D?line=25'>26</a>\u001b[0m animals \u001b[39m=\u001b[39m [Cat(\u001b[39m\"\u001b[39m\u001b[39m야옹1\u001b[39m\u001b[39m\"\u001b[39m),Cat(\u001b[39m\"\u001b[39m\u001b[39m야옹2\u001b[39m\u001b[39m\"\u001b[39m), Dog(\u001b[39m\"\u001b[39m\u001b[39m멍멍1\u001b[39m\u001b[39m\"\u001b[39m),Dog(\u001b[39m\"\u001b[39m\u001b[39m멍멍2\u001b[39m\u001b[39m\"\u001b[39m), Monkey(\u001b[39m\"\u001b[39m\u001b[39m키키1\u001b[39m\u001b[39m\"\u001b[39m)]\n\u001b[1;32m     <a href='vscode-notebook-cell:/Users/sophie/Desktop/Python/231213_12PM/TestPython404_231204/ch6_class_basic/classBasic1.ipynb#W1sZmlsZQ%3D%3D?line=27'>28</a>\u001b[0m \u001b[39mfor\u001b[39;00m animal \u001b[39min\u001b[39;00m animals:\n\u001b[1;32m     <a href='vscode-notebook-cell:/Users/sophie/Desktop/Python/231213_12PM/TestPython404_231204/ch6_class_basic/classBasic1.ipynb#W1sZmlsZQ%3D%3D?line=28'>29</a>\u001b[0m   \u001b[39mprint\u001b[39m(\u001b[39mf\u001b[39m\u001b[39m\"\u001b[39m\u001b[39m동물 이름: \u001b[39m\u001b[39m{\u001b[39;00manimal\u001b[39m.\u001b[39mname\u001b[39m}\u001b[39;00m\u001b[39m, 소리 : \u001b[39m\u001b[39m{\u001b[39;00manimal\u001b[39m.\u001b[39mtalk()\u001b[39m}\u001b[39;00m\u001b[39m\"\u001b[39m)\n",
      "\u001b[0;31mNameError\u001b[0m: name 'Monkey' is not defined"
     ]
    }
   ],
   "source": [
    "#다형성 테스트\n",
    "class Animal:\n",
    "  def __init__(self,name):\n",
    "    self.name = name \n",
    "  def talk(self):\n",
    "    # NotImplementedError : 자식 클래스에만 해당 함수를 사용할수 있다. \n",
    "    raise NotImplementedError(\"Subclass must implement abstract method\")\n",
    "  \n",
    "#\n",
    "class Cat(Animal):\n",
    "  def talk(self):\n",
    "    return \"야옹\"\n",
    "\n",
    "class Dog(Animal):\n",
    "  def talk(self):\n",
    "    return \"멍멍\"\n",
    "\n",
    "# 상속 받은 클래스에서 만, talk 함수 사용여부 확인.\n",
    "# class Mongkey():\n",
    "#   def __init__(self,name):\n",
    "#     self.name = name\n",
    "    \n",
    "  def talk(self):\n",
    "    return \"키키\"\n",
    "    \n",
    "animals = [Cat(\"야옹1\"),Cat(\"야옹2\"), Dog(\"멍멍1\"),Dog(\"멍멍2\"), Monkey(\"키키1\")]\n",
    "\n",
    "for animal in animals:\n",
    "  print(f\"동물 이름: {animal.name}, 소리 : {animal.talk()}\")"
   ]
  },
  {
   "cell_type": "code",
   "execution_count": null,
   "metadata": {},
   "outputs": [
    {
     "name": "stdout",
     "output_type": "stream",
     "text": [
      "new item added\n",
      "new item added\n",
      "my_inventory.__items조회 : [<__main__.Product object at 0x0000022B1E450DA0>, <__main__.Product object at 0x0000022B1D243A40>]\n"
     ]
    }
   ],
   "source": [
    "# 가시성 테스트 \n",
    "class Product(object):\n",
    "  pass \n",
    "\n",
    "class Inventory(object):\n",
    "  # 생성자\n",
    "  def __init__(self):\n",
    "    self.__items = []\n",
    "\n",
    "  # 외부에서, 접근 가능하게 @property 속성 사용. \n",
    "  @property\n",
    "  def items(self):\n",
    "    return self.__items  \n",
    "  \n",
    "  # 아이템 추가 함수\n",
    "  def add_new_item (self,product):\n",
    "    if type(product) == Product:\n",
    "      self.__items.append(product)\n",
    "      print(f\"new item added\")\n",
    "    else:\n",
    "      raise ValueError(\"Invalid Item\")\n",
    "    \n",
    "  # 아이템 번호 확인 함수.  \n",
    "  def get_number_of_items(self):\n",
    "    return len(self.__items)\n",
    "\n",
    "# 클래스 사용 \n",
    "my_inventory = Inventory()\n",
    "my_inventory.add_new_item(Product())\n",
    "my_inventory.add_new_item(Product())\n",
    "\n",
    "# 문제가 되는 코드 \n",
    "# print(f\"my_inventory.__items조회 : {my_inventory.__items}\")\n",
    "# 해결하는 코드.\n",
    "print(f\"my_inventory.__items조회 : {my_inventory.items}\")"
   ]
  }
 ],
 "metadata": {
  "kernelspec": {
   "display_name": "Python 3",
   "language": "python",
   "name": "python3"
  },
  "language_info": {
   "codemirror_mode": {
    "name": "ipython",
    "version": 3
   },
   "file_extension": ".py",
   "mimetype": "text/x-python",
   "name": "python",
   "nbconvert_exporter": "python",
   "pygments_lexer": "ipython3",
   "version": "3.12.0"
  }
 },
 "nbformat": 4,
 "nbformat_minor": 2
}
