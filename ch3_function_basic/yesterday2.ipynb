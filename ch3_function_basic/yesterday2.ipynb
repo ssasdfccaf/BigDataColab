{
 "cells": [
  {
   "cell_type": "code",
   "execution_count": 1,
   "metadata": {},
   "outputs": [
    {
     "name": "stdout",
     "output_type": "stream",
     "text": [
      "yesterday_lyric의 내용 출력 부분 : ['Yesterday all my troubles seemed so far away\\n', \"Now it looks as though they're here to stay\\n\", 'Oh, I believe in yesterday\\n', \"Suddenly I'm not half the man I used to be\\n\", \"There's a shadow hanging over me\\n\", 'Oh, yesterday came suddenly.\\n', \"Why she had to go I don't know,\\n\", \"she wouldn't say.\\n\", 'I said something wrong\\n', 'now I long for yesterday.\\n', 'Yesterday love was such an easy game to play\\n', 'Now I need a place to hide away\\n', 'Oh, I believe in yesterday\\n', \"Why she had to go I don't know\\n\", \"she wouldn't say\\n\", 'I said something wrong\\n', 'now I long for yesterday\\n', 'Yesterday love was such an easy game to play\\n', 'Now I need a place to hide away\\n', 'Oh, I believe in yesterday']\n",
      "contents의 내용이 궁금 하면 반복문 다 종료후 : Yesterday all my troubles seemed so far away\n",
      "Now it looks as though they're here to stay\n",
      "Oh, I believe in yesterday\n",
      "Suddenly I'm not half the man I used to be\n",
      "There's a shadow hanging over me\n",
      "Oh, yesterday came suddenly.\n",
      "Why she had to go I don't know,\n",
      "she wouldn't say.\n",
      "I said something wrong\n",
      "now I long for yesterday.\n",
      "Yesterday love was such an easy game to play\n",
      "Now I need a place to hide away\n",
      "Oh, I believe in yesterday\n",
      "Why she had to go I don't know\n",
      "she wouldn't say\n",
      "I said something wrong\n",
      "now I long for yesterday\n",
      "Yesterday love was such an easy game to play\n",
      "Now I need a place to hide away\n",
      "Oh, I believe in yesterday\n",
      "\n",
      "가사 중에 yesterday 를 대문자로 변환 후 갯수 찾은 결과: 9\n"
     ]
    }
   ],
   "source": [
    "# 파일 입출력에서, 가사 문서를 입력해서(인코딩 타입: utf-8)\n",
    "# 메모리상에 f 인스턴스에 있음.\n",
    "f = open(\"./yesterday.txt\", 'r', encoding='utf-8')\n",
    "\n",
    "# f 인스턴스에 들어 있는 문장들을 ,readlines 함수를 이용해서, 한번에 다 읽고.\n",
    "yesterday_lyric = f.readlines()\n",
    "# 파일의 내용을 잘 읽었는지 확인 하는 부분.\n",
    "print(f\"yesterday_lyric의 내용 출력 부분 : {yesterday_lyric}\")\n",
    "# 파일을 잘 읽어서, yesterday_lyric 담아서, 해당 인스턴스를 반납.\n",
    "f.close()\n",
    "\n",
    "# contents : 임시 문자열 변수에\n",
    "contents = \"\"\n",
    "# 반복문으로 가사 중에서, 한 라인씩 읽어서\n",
    "# 공백 제거하고 한줄을 contents 붙이는 반복작업\n",
    "for line in yesterday_lyric:\n",
    "  contents = contents + line.strip() + \"\\n\"\n",
    "# 디버깅으로 하나씩 출력 부분으로 보여드리고, 확인.\n",
    "# print(f\"contents의 내용이 궁금 하면 반복문 안의 내용 : {contents}\")\n",
    "print(f\"contents의 내용이 궁금 하면 반복문 다 종료후 : {contents}\")\n",
    "# contents 에서 YESTERDAY 갯수를 다 찾음.\n",
    "result = contents.upper().count(\"YESTERDAY\")\n",
    "print(f\"가사 중에 yesterday 를 대문자로 변환 후 갯수 찾은 결과: {result}\")"
   ]
  }
 ],
 "metadata": {
  "kernelspec": {
   "display_name": "Python 3",
   "language": "python",
   "name": "python3"
  },
  "language_info": {
   "codemirror_mode": {
    "name": "ipython",
    "version": 3
   },
   "file_extension": ".py",
   "mimetype": "text/x-python",
   "name": "python",
   "nbconvert_exporter": "python",
   "pygments_lexer": "ipython3",
   "version": "3.12.0"
  }
 },
 "nbformat": 4,
 "nbformat_minor": 2
}
