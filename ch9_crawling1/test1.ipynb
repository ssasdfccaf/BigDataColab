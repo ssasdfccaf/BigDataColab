{
 "cells": [
  {
   "cell_type": "markdown",
   "metadata": {},
   "source": [
    "### !!!주의 사항!!!\n",
    "# 해당 사이트의 정보(데이터)의 허용 범위를 꼭 조회 후 해야함. \n",
    "## 예) https://www.nate.com/robots.txt \n",
    "## 뒤에 robots.txt 를 붙이면 됩니다. \n",
    "## 꼭 확인 후 자료 수집 하기. "
   ]
  },
  {
   "cell_type": "code",
   "execution_count": null,
   "metadata": {},
   "outputs": [],
   "source": []
  }
 ],
 "metadata": {
  "language_info": {
   "name": "python"
  }
 },
 "nbformat": 4,
 "nbformat_minor": 2
}
