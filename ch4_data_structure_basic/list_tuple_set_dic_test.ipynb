{
 "cells": [
  {
   "cell_type": "code",
   "execution_count": 4,
   "metadata": {},
   "outputs": [
    {
     "name": "stdout",
     "output_type": "stream",
     "text": [
      "a 리스트 출력 해보기. : [1, 2, 3]\n",
      "b 튜플 출력 해보기. : (1, 2, 3)\n",
      "b 타입 조회. : <class 'tuple'>\n",
      "c set 출력 해보기. : {1, 2, 3}\n",
      "c 타입 조회. : <class 'set'>\n",
      "기본 딕션너리 출력 : {'a': 1, 'b': 2, 'c': 3}\n",
      "기본 딕션너리 출력 : dict_keys(['a', 'b', 'c'])\n",
      "기본 딕션너리 출력 : dict_values([1, 2, 3])\n",
      "기본 딕션너리 출력 : dict_items([('a', 1), ('b', 2), ('c', 3)])\n",
      "key : a, value : 1\n",
      "key : b, value : 2\n",
      "key : c, value : 3\n"
     ]
    }
   ],
   "source": [
    "# 리스트, 표기 : [] ,순서O, 중복허용가능.\n",
    "a = [ 1,2,3]\n",
    "print(f\"a 리스트 출력 해보기. : {a}\")\n",
    "\n",
    "# 튜플, 표기 : () , 순서O, 중복허용가능. 상수\n",
    "# tuple() 함수 사용해서, 리스트 -> 튜플 변환.\n",
    "b = tuple(a)\n",
    "print(f\"b 튜플 출력 해보기. : {b}\")\n",
    "print(f\"b 타입 조회. : {type(b)}\")\n",
    "\n",
    "#set ,집합, 순서x ,중복 불가. \n",
    "# set() 함수 이용 : () -> 집합으로 변환. \n",
    "c = set(a)\n",
    "print(f\"c set 출력 해보기. : {c}\")\n",
    "print(f\"c 타입 조회. : {type(c)}\")\n",
    "\n",
    "#딕션너리, 키, 값의 구조로 : 표기 {키1:값1, 키2:값2,...}\n",
    "d = {\"a\" : 1, \"b\" :2 , \"c\": 3}\n",
    "\n",
    "# keys(), values(), items()\n",
    "print(f\"기본 딕션너리 출력 : {d}\")\n",
    "print(f\"기본 딕션너리 출력 : {d.keys()}\")\n",
    "print(f\"기본 딕션너리 출력 : {d.values()}\")\n",
    "print(f\"기본 딕션너리 출력 : {d.items()}\")\n",
    "\n",
    "# 반복문, 딕션너리 결합, \n",
    "for k,v in d.items():\n",
    "  print(f\"key : {k}, value : {v}\")\n",
    "\n"
   ]
  }
 ],
 "metadata": {
  "kernelspec": {
   "display_name": "Python 3",
   "language": "python",
   "name": "python3"
  },
  "language_info": {
   "codemirror_mode": {
    "name": "ipython",
    "version": 3
   },
   "file_extension": ".py",
   "mimetype": "text/x-python",
   "name": "python",
   "nbconvert_exporter": "python",
   "pygments_lexer": "ipython3",
   "version": "3.12.0"
  }
 },
 "nbformat": 4,
 "nbformat_minor": 2
}
