{
 "cells": [
  {
   "cell_type": "code",
   "execution_count": 2,
   "metadata": {},
   "outputs": [
    {
     "name": "stdout",
     "output_type": "stream",
     "text": [
      "함수 내부의 y 값 : 3\n",
      "func1 (x) 값 조회 : 9\n",
      "함수 호출 후 x 값 조회 : 3\n"
     ]
    }
   ],
   "source": [
    "# call by value , \n",
    "def func1(x): # 함수의 매개변수 x 정의 \n",
    "  y = x # y는 지역변수, 함수 내부에서 생성이 되었다. \n",
    "  print(f\"함수 내부의 y 값 : {y}\")\n",
    "  x = 5 # 지역변수 \n",
    "  return y * y \n",
    "\n",
    "# 전역변수\n",
    "x = 3\n",
    "print(f\"func1 (x) 값 조회 : {func1(x)}\")\n",
    "print(f\"함수 호출 후 x 값 조회 : {x}\")\n"
   ]
  },
  {
   "cell_type": "code",
   "execution_count": 4,
   "metadata": {},
   "outputs": [
    {
     "name": "stdout",
     "output_type": "stream",
     "text": [
      "list2의 id 조회 : 3023321055872\n",
      "함수 호출시 list의 id 조회 : 3023321055872\n",
      "함수 호출시 list 출력해보기 : [0]\n",
      "함수 호출시 list append(1) 후 출력해보기 : [0, 1]\n",
      "함수 호출시 list append(1) 후 list의 id 조회 : 3023321055872\n",
      "함수 호출시  list = [2,3] 후 출력해보기 : [2, 3]\n",
      "함수 호출시 list = [2,3]  후 list의 id 조회 : 3023321056064\n",
      "list2 출력해보기 : [0, 1]\n",
      "test 함수 호출 후 list2의 id 조회 : 3023321055872\n",
      "list 출력해보기 : <class 'list'>\n",
      "test 함수 호출 후 list의 id 조회 : 140705013031664\n"
     ]
    }
   ],
   "source": [
    "# call by ref\n",
    "def test(list): # list 매개변수 \n",
    "  print(f\"함수 호출시 list의 id 조회 : {id(list)}\")\n",
    "  print(f\"함수 호출시 list 출력해보기 : {list}\")\n",
    "  # 여기까지가, 전달받은 , list의 메모리 주소이고\n",
    "  list.append(1) \n",
    "  print(f\"함수 호출시 list append(1) 후 출력해보기 : {list}\")\n",
    "  print(f\"함수 호출시 list append(1) 후 list의 id 조회 : {id(list)}\")\n",
    "\n",
    "  # 여기부터 새로운 list의 메모리 주소이고, 지역변수\n",
    "  list = [2,3] # 지역변수, 재할당\n",
    "  print(f\"함수 호출시  list = [2,3] 후 출력해보기 : {list}\")\n",
    "  print(f\"함수 호출시 list = [2,3]  후 list의 id 조회 : {id(list)}\")\n",
    "\n",
    "# 전역 , 리스트 \n",
    "list2 = [0]\n",
    "print(f\"list2의 id 조회 : {id(list2)}\")\n",
    "test(list2)\n",
    "print(f\"list2 출력해보기 : {list2}\")\n",
    "print(f\"test 함수 호출 후 list2의 id 조회 : {id(list2)}\")\n",
    "print(f\"list 출력해보기 : {list}\")\n",
    "print(f\"test 함수 호출 후 list의 id 조회 : {id(list)}\")\n"
   ]
  },
  {
   "cell_type": "code",
   "execution_count": 5,
   "metadata": {},
   "outputs": [
    {
     "name": "stdout",
     "output_type": "stream",
     "text": [
      "list2의 id 조회 : 3023321055552\n",
      "함수 호출시 list의 id 조회 : 3023321055552\n",
      "함수 호출시 list 출력해보기 : [0]\n",
      "함수 호출시 list append(1) 후 출력해보기 : [0, 1]\n",
      "함수 호출시 list append(1) 후 list의 id 조회 : 3023321055552\n",
      "함수 호출시  list = [2,3] 후 출력해보기 : [0, 1]\n",
      "함수 호출시 list = [2,3]  후 list의 id 조회 : 3023321055552\n",
      "list2 출력해보기 : [0, 1]\n",
      "test 함수 호출 후 list2의 id 조회 : 3023321055552\n",
      "list 출력해보기 : <class 'list'>\n",
      "test 함수 호출 후 list의 id 조회 : 140705013031664\n",
      "함수 호출시 list의 id 조회 : 3023321055552\n",
      "함수 호출시 list 출력해보기 : [0, 1]\n",
      "함수 호출시 list append(1) 후 출력해보기 : [0, 1, 1]\n",
      "함수 호출시 list append(1) 후 list의 id 조회 : 3023321055552\n",
      "함수 호출시  list = [2,3] 후 출력해보기 : [0, 1, 1]\n",
      "함수 호출시 list = [2,3]  후 list의 id 조회 : 3023321055552\n",
      "test 함수 호출 후 list3의 id 조회 : 3023321055552\n"
     ]
    }
   ],
   "source": [
    "# call by ref\n",
    "def test(list): # list 매개변수 \n",
    "  print(f\"함수 호출시 list의 id 조회 : {id(list)}\")\n",
    "  print(f\"함수 호출시 list 출력해보기 : {list}\")\n",
    "  # 여기까지가, 전달받은 , list의 메모리 주소이고\n",
    "  list.append(1) \n",
    "  print(f\"함수 호출시 list append(1) 후 출력해보기 : {list}\")\n",
    "  print(f\"함수 호출시 list append(1) 후 list의 id 조회 : {id(list)}\")\n",
    "\n",
    "  # 여기부터 새로운 list의 메모리 주소이고, 지역변수\n",
    "  # list = [2,3] # 지역변수, 재할당\n",
    "  print(f\"함수 호출시  list = [2,3] 후 출력해보기 : {list}\")\n",
    "  print(f\"함수 호출시 list = [2,3]  후 list의 id 조회 : {id(list)}\")\n",
    "  return list\n",
    "\n",
    "# 전역 , 리스트 \n",
    "list2 = [0]\n",
    "print(f\"list2의 id 조회 : {id(list2)}\")\n",
    "test(list2)\n",
    "print(f\"list2 출력해보기 : {list2}\")\n",
    "print(f\"test 함수 호출 후 list2의 id 조회 : {id(list2)}\")\n",
    "print(f\"list 출력해보기 : {list}\")\n",
    "print(f\"test 함수 호출 후 list의 id 조회 : {id(list)}\")\n",
    "list3 = test(list2)\n",
    "print(f\"test 함수 호출 후 list3의 id 조회 : {id(list3)}\")\n"
   ]
  },
  {
   "cell_type": "code",
   "execution_count": 1,
   "metadata": {},
   "outputs": [
    {
     "name": "stdout",
     "output_type": "stream",
     "text": [
      "함수 내부 s 출력 : hi sy\n",
      "함수 외부 s 출력 : hi sy\n"
     ]
    }
   ],
   "source": [
    "def f():\n",
    "  # global 키워드, 전역처럼 사용하기. \n",
    "  global s\n",
    "  # 전역변수, 덮어쓰기.\n",
    "  s = \"hi sy\"\n",
    "  print(f\"함수 내부 s 출력 : {s}\")\n",
    "\n",
    "# 전역 \n",
    "s = \"hello sy\"\n",
    "# 함수 호출 후, 함수 내부에 global 키워드 이용해서, 전역처럼 사용하기. \n",
    "f() \n",
    "print(f\"함수 외부 s 출력 : {s}\")\n"
   ]
  },
  {
   "cell_type": "code",
   "execution_count": 8,
   "metadata": {},
   "outputs": [
    {
     "name": "stdout",
     "output_type": "stream",
     "text": [
      "A(1,2)의 결과 : 3\n",
      "A(1,2,3,4,5)의 결과 : 15\n"
     ]
    }
   ],
   "source": [
    "#가변 인수, * 표기 \n",
    "def A(a,b,*args):\n",
    "  return a+b+ sum(args)\n",
    "\n",
    "print(f\"A(1,2)의 결과 : {A(1,2)}\")\n",
    "print(f\"A(1,2,3,4,5)의 결과 : {A(1,2,3,4,5)}\")\n"
   ]
  },
  {
   "cell_type": "code",
   "execution_count": 10,
   "metadata": {},
   "outputs": [
    {
     "name": "stdout",
     "output_type": "stream",
     "text": [
      "A(1,2)의 결과 : (1, 2, [])\n",
      "A(1,2,3)의 결과 : (1, 2, [3])\n",
      "A(1,2,3,4,5)의 결과 : (1, 2, [3, 4, 5])\n"
     ]
    }
   ],
   "source": [
    "#가변 인수, * 표기 \n",
    "def A(*args):\n",
    "  x,y, *z = args\n",
    "  return x,y,z\n",
    "\n",
    "print(f\"A(1,2)의 결과 : {A(1,2)}\")\n",
    "print(f\"A(1,2,3)의 결과 : {A(1,2,3)}\")\n",
    "print(f\"A(1,2,3,4,5)의 결과 : {A(1,2,3,4,5)}\")"
   ]
  },
  {
   "cell_type": "code",
   "execution_count": 12,
   "metadata": {},
   "outputs": [
    {
     "name": "stdout",
     "output_type": "stream",
     "text": [
      "{'a': 1, 'b': 2, 'c': 3}\n",
      "key 값에 해당하는 value 값 조회 : 1 \n",
      "key 값에 해당하는 value 값 조회 : 2 \n",
      "key 값에 해당하는 value 값 조회 : 3 \n"
     ]
    }
   ],
   "source": [
    "#키워드 가변 인수, ** 표기 , 타입 : 딕션너리(Map),\n",
    "# 주의) 매개변수 맨 마지막에 선언함\n",
    "def A(**args):\n",
    "  print(args)\n",
    "  print(f\"key 값에 해당하는 value 값 조회 : {args[\"a\"]} \")\n",
    "  print(f\"key 값에 해당하는 value 값 조회 : {args[\"b\"]} \")\n",
    "  print(f\"key 값에 해당하는 value 값 조회 : {args[\"c\"]} \")\n",
    "  \n",
    "\n",
    "A(a = 1, b = 2, c = 3)"
   ]
  }
 ],
 "metadata": {
  "kernelspec": {
   "display_name": "Python 3",
   "language": "python",
   "name": "python3"
  },
  "language_info": {
   "codemirror_mode": {
    "name": "ipython",
    "version": 3
   },
   "file_extension": ".py",
   "mimetype": "text/x-python",
   "name": "python",
   "nbconvert_exporter": "python",
   "pygments_lexer": "ipython3",
   "version": "3.12.0"
  }
 },
 "nbformat": 4,
 "nbformat_minor": 2
}
