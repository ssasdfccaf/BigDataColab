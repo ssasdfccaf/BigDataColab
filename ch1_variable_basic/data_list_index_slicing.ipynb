{
 "cells": [
  {
   "cell_type": "code",
   "execution_count": 1,
   "metadata": {},
   "outputs": [
    {
     "name": "stdout",
     "output_type": "stream",
     "text": [
      "리스트 출력 : [1, 2, 3, 4, 5, '수연']\n",
      " alist의 타입 : <class 'list'>\n",
      " a의 타입 : <class 'int'>\n",
      "인덱싱 : 0번째 요소 : 1\n",
      "슬라이싱 : [0:3] : [1, 2, 3]\n",
      "슬라이싱 : 전체 출력 [:] : [1, 2, 3, 4, 5, '수연']\n",
      "슬라이싱 : 전체 출력 [::1] : [1, 2, 3, 4, 5, '수연']\n",
      "슬라이싱 : 증가값 +2 출력 [::2] : [1, 3, 5]\n",
      "슬라이싱 : 증가값 -1 출력 [::-1] : [1, 3, 5]\n",
      "슬라이싱 : [2:-1] 출력 [2:-1] : [1, 3, 5]\n",
      "슬라이싱 : [2:4] 출력 [2:4] : [1, 3, 5]\n",
      "슬라이싱 : 전체 출력 [::2] : [1, 3, 5]\n"
     ]
    }
   ],
   "source": [
    "# 리스트, 주의, 다른 형끼리 가능\n",
    "# 파이썬에서 기본적으로 모든 타입이 객체이다.\n",
    "alist = [1,2,3,4,5,\"수연\"]\n",
    "print(f\"리스트 출력 : {alist}\")\n",
    "print(f\" alist의 타입 : {type(alist)}\")\n",
    "\n",
    "a = 3\n",
    "print(f\" a의 타입 : {type(a)}\")\n",
    "\n",
    "# 인덱싱, 슬라이싱 [a:b:c], a: 시작값, b:마지막값, c:증가값\n",
    "# b 마지막 값은 미포함\n",
    "# 리버스 인덱싱, 요소의 맨 마지막이 -1부터 시작\n",
    "print(f\"인덱싱 : 0번째 요소 : {alist[0]}\")\n",
    "\n",
    "# 슬라이싱\n",
    "print(f\"슬라이싱 : [0:3] : {alist[0:3]}\")\n",
    "print(f\"슬라이싱 : 전체 출력 [:] : {alist[:]}\")\n",
    "print(f\"슬라이싱 : 전체 출력 [::1] : {alist[::1]}\")\n",
    "print(f\"슬라이싱 : 증가값 +2 출력 [::2] : {alist[::2]}\")\n",
    "print(f\"슬라이싱 : 증가값 -1 출력 [::-1] : {alist[::2]}\")\n",
    "print(f\"슬라이싱 : [2:-1] 출력 [2:-1] : {alist[::2]}\")\n",
    "print(f\"슬라이싱 : [2:4] 출력 [2:4] : {alist[::2]}\")\n",
    "print(f\"슬라이싱 : 전체 출력 [::2] : {alist[::2]}\")"
   ]
  },
  {
   "cell_type": "code",
   "execution_count": 1,
   "metadata": {},
   "outputs": [
    {
     "ename": "SyntaxError",
     "evalue": "invalid syntax (334839333.py, line 1)",
     "output_type": "error",
     "traceback": [
      "\u001b[0;36m  Cell \u001b[0;32mIn[1], line 1\u001b[0;36m\u001b[0m\n\u001b[0;31m    // 리스트 출력\u001b[0m\n\u001b[0m    ^\u001b[0m\n\u001b[0;31mSyntaxError\u001b[0m\u001b[0;31m:\u001b[0m invalid syntax\n"
     ]
    }
   ],
   "source": [
    "// 리스트 출력"
   ]
  },
  {
   "cell_type": "code",
   "execution_count": null,
   "metadata": {},
   "outputs": [],
   "source": [
    "# 리스트 덧셈, 곱셈, in 연산자\n",
    "alist = [1,2,3,4.5, \"수연\"]\n",
    "sumList = alist + alist \n",
    "mulList = alist + 3\n",
    "print(f\"sumList 출력 : {sumList}\")\n",
    "print(f\"sumList 출력 : {sumList}\")\n",
    "\n",
    "# in 연산자 확인\n",
    "print(f\"alist 요소의 값 중 3이 있나요? : {3 in alist}\")\n"
   ]
  },
  {
   "cell_type": "code",
   "execution_count": 6,
   "metadata": {},
   "outputs": [
    {
     "name": "stdout",
     "output_type": "stream",
     "text": [
      "alist 출력 : [1, 2, 3, 4.5, '수연', '수연2']\n",
      "blist 출력 : [1, 2, 3, 4, 5, '수연', 'a', 'b', 'c']\n"
     ]
    }
   ],
   "source": [
    "# append 새로운 값 추가\n",
    "alist = [1,2,3,4.5, \"수연\"]\n",
    "alist.append(\"수연2\")\n",
    "print(f\"alist 출력 : {alist}\")\n",
    "\n",
    "# extend 새로운 리스트 추가\n",
    "blist = [1,2,3,4,5,\"수연\"]\n",
    "clist = [\"a\", \"b\", \"c\"]\n",
    "blist.extend(clist) \n",
    "print(f\"blist 출력 : {blist}\")"
   ]
  },
  {
   "cell_type": "code",
   "execution_count": 10,
   "metadata": {},
   "outputs": [
    {
     "ename": "TypeError",
     "evalue": "insert expected 2 arguments, got 1",
     "output_type": "error",
     "traceback": [
      "\u001b[0;31m---------------------------------------------------------------------------\u001b[0m",
      "\u001b[0;31mTypeError\u001b[0m                                 Traceback (most recent call last)",
      "\u001b[1;32m/Users/sophie/Desktop/TESTPYTHON/ch1_variable_basic/data_list_index_slicing.ipynb 셀 5\u001b[0m line \u001b[0;36m2\n\u001b[1;32m      <a href='vscode-notebook-cell:/Users/sophie/Desktop/TESTPYTHON/ch1_variable_basic/data_list_index_slicing.ipynb#W5sZmlsZQ%3D%3D?line=0'>1</a>\u001b[0m \u001b[39m# insert = 특정 인덱스 추가\u001b[39;00m\n\u001b[0;32m----> <a href='vscode-notebook-cell:/Users/sophie/Desktop/TESTPYTHON/ch1_variable_basic/data_list_index_slicing.ipynb#W5sZmlsZQ%3D%3D?line=1'>2</a>\u001b[0m alist\u001b[39m.\u001b[39;49minsert(\u001b[39m\"\u001b[39;49m\u001b[39m수연0\u001b[39;49m\u001b[39m\"\u001b[39;49m)\n\u001b[1;32m      <a href='vscode-notebook-cell:/Users/sophie/Desktop/TESTPYTHON/ch1_variable_basic/data_list_index_slicing.ipynb#W5sZmlsZQ%3D%3D?line=2'>3</a>\u001b[0m \u001b[39mprint\u001b[39m(\u001b[39mf\u001b[39m\u001b[39m\"\u001b[39m\u001b[39malist 출력 : \u001b[39m\u001b[39m{\u001b[39;00malist\u001b[39m}\u001b[39;00m\u001b[39m\"\u001b[39m)\n\u001b[1;32m      <a href='vscode-notebook-cell:/Users/sophie/Desktop/TESTPYTHON/ch1_variable_basic/data_list_index_slicing.ipynb#W5sZmlsZQ%3D%3D?line=6'>7</a>\u001b[0m \u001b[39m# remove = 특정 요소 삭제\u001b[39;00m\n",
      "\u001b[0;31mTypeError\u001b[0m: insert expected 2 arguments, got 1"
     ]
    }
   ],
   "source": [
    "# insert = 특정 인덱스 추가\n",
    "alist.insert(\"수연0\")\n",
    "print(f\"alist 출력 : {alist}\")\n",
    "\n",
    "\n",
    "# remove = 특정 요소 삭제\n",
    "alist.remove(\"수연2\")\n",
    "print(f\"alist 출력 : {alist}\")\n",
    "\n",
    "\n",
    "# 재할당 , 요소에 직접 접근해서 덮어쓰기\n",
    "alist[0] = \"수연0 대신 덮어쓰기\"\n",
    "print(f\"alist 출력 : {alist}\")\n",
    "\n",
    "\n",
    "# del 함수 = 해당 요소 삭제\n",
    "del alist[0]\n",
    "print(f\"alist 출력 : {alist}\")"
   ]
  },
  {
   "cell_type": "markdown",
   "metadata": {},
   "source": [
    "# 패킹, 언패킹\n",
    "a = [1,2,3]\n",
    "x,y,z = a\n",
    "print(f\"a 리스트 : {a}, x : {x}, y: {y}, z: {z}\")"
   ]
  },
  {
   "cell_type": "code",
   "execution_count": null,
   "metadata": {},
   "outputs": [],
   "source": [
    "# 리스트 : [1,2,3], x : 1, y: 2, z:3"
   ]
  },
  {
   "cell_type": "code",
   "execution_count": 12,
   "metadata": {},
   "outputs": [
    {
     "name": "stdout",
     "output_type": "stream",
     "text": [
      " alist 와 blist 저장된 위치 주소값 비교 : False \n",
      " a 와 b 저장된 위치 주소값 비교 : False \n",
      " c 와 d 저장된 위치 주소값 비교 : True \n",
      " e 와 f 저장된 위치 주소값 비교 : True \n",
      " g 와 h 저장된 위치 주소값 비교 : False \n"
     ]
    }
   ],
   "source": [
    "# 리스트의 요소의 메모리 위치 저장소 간단히 확인\n",
    "alist = [1,2,3]\n",
    "blist = [1,2,3]\n",
    "a = 300\n",
    "b = 300\n",
    "c = 1\n",
    "d = 1\n",
    "e = 256\n",
    "f = 256\n",
    "g = 257\n",
    "h = 257\n",
    "\n",
    "# ~256 256까지 같은 저장소 사용\n",
    "print(f\" alist 와 blist 저장된 위치 주소값 비교 : {alist is blist} \")\n",
    "print(f\" a 와 b 저장된 위치 주소값 비교 : {a is b} \")\n",
    "print(f\" c 와 d 저장된 위치 주소값 비교 : {c is d} \")\n",
    "print(f\" e 와 f 저장된 위치 주소값 비교 : {e is f} \")\n",
    "print(f\" g 와 h 저장된 위치 주소값 비교 : {g is h} \")\n",
    "      "
   ]
  },
  {
   "cell_type": "code",
   "execution_count": 13,
   "metadata": {},
   "outputs": [
    {
     "name": "stdout",
     "output_type": "stream",
     "text": [
      "a 리스트 : [1, 2, 3], x : 1, y: 2, z: 3\n"
     ]
    }
   ],
   "source": [
    "# 패킹, 언패킹\n",
    "a = [1,2,3]\n",
    "x,y,z = a\n",
    "print(f\"a 리스트 : {a}, x : {x}, y: {y}, z: {z}\")"
   ]
  }
 ],
 "metadata": {
  "kernelspec": {
   "display_name": "Python 3",
   "language": "python",
   "name": "python3"
  },
  "language_info": {
   "codemirror_mode": {
    "name": "ipython",
    "version": 3
   },
   "file_extension": ".py",
   "mimetype": "text/x-python",
   "name": "python",
   "nbconvert_exporter": "python",
   "pygments_lexer": "ipython3",
   "version": "3.12.0"
  }
 },
 "nbformat": 4,
 "nbformat_minor": 2
}
